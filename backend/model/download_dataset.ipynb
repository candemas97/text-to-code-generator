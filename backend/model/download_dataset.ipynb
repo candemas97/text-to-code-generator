{
 "cells": [
  {
   "cell_type": "code",
   "execution_count": 1,
   "metadata": {},
   "outputs": [],
   "source": [
    "import tensorflow as tf\n",
    "import os"
   ]
  },
  {
   "cell_type": "code",
   "execution_count": 3,
   "metadata": {},
   "outputs": [
    {
     "name": "stdout",
     "output_type": "stream",
     "text": [
      "Downloading data from https://raw.githubusercontent.com/google-research/google-research/master/mbpp/mbpp.jsonl\n",
      "563743/563743 [==============================] - 0s 0us/step\n"
     ]
    }
   ],
   "source": [
    "def download_dataset():\n",
    "    # download data using a keras utility\n",
    "    _url = \"https://raw.githubusercontent.com/google-research/google-research/master/mbpp/mbpp.jsonl\" # download mbpp dataset\n",
    "    dataset_path = tf.keras.utils.get_file(\"train_dataset.jsonl\", origin=_url)\n",
    "    return dataset_path\n",
    "\n",
    "dataset_path = download_dataset()"
   ]
  }
 ],
 "metadata": {
  "kernelspec": {
   "display_name": "Python 3",
   "language": "python",
   "name": "python3"
  },
  "language_info": {
   "codemirror_mode": {
    "name": "ipython",
    "version": 3
   },
   "file_extension": ".py",
   "mimetype": "text/x-python",
   "name": "python",
   "nbconvert_exporter": "python",
   "pygments_lexer": "ipython3",
   "version": "3.11.2"
  }
 },
 "nbformat": 4,
 "nbformat_minor": 2
}
